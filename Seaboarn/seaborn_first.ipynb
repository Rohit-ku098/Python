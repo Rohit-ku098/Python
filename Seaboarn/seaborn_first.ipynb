{
 "cells": [
  {
   "cell_type": "markdown",
   "id": "155b09bb",
   "metadata": {},
   "source": [
    "## Seaborn Learning"
   ]
  },
  {
   "cell_type": "markdown",
   "id": "a54d1504",
   "metadata": {},
   "source": []
  }
 ],
 "metadata": {
  "language_info": {
   "name": "python"
  }
 },
 "nbformat": 4,
 "nbformat_minor": 5
}
