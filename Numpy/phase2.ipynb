{
 "cells": [
  {
   "cell_type": "markdown",
   "id": "7239745d",
   "metadata": {},
   "source": [
    "## Numpy Array Operations"
   ]
  },
  {
   "cell_type": "code",
   "execution_count": 4,
   "id": "c1437e02",
   "metadata": {},
   "outputs": [],
   "source": [
    "import numpy as np"
   ]
  },
  {
   "cell_type": "code",
   "execution_count": 5,
   "id": "9d3fc6dd",
   "metadata": {},
   "outputs": [
    {
     "name": "stdout",
     "output_type": "stream",
     "text": [
      "Basic slicing:  [3 4 5 6 7]\n",
      "Step Slicing:  [3 5 7]\n"
     ]
    }
   ],
   "source": [
    "arr = np.array([1,2,3,4,5,6,7,8,9,10])\n",
    "\n",
    "## Basic slicing\n",
    "print(\"Basic slicing: \", arr[2:7])\n",
    "\n",
    "## step slicing\n",
    "print(\"Step Slicing: \", arr[2:8:2])"
   ]
  },
  {
   "cell_type": "code",
   "execution_count": 6,
   "id": "d7b6f325",
   "metadata": {},
   "outputs": [
    {
     "name": "stdout",
     "output_type": "stream",
     "text": [
      "Specific Element:  6\n",
      "Entire row:  [4 5 6]\n",
      "Entire Column:  [2 5 8]\n"
     ]
    }
   ],
   "source": [
    "arr_2d = [[1,2,3], [4,5,6]]\n",
    "\n",
    "# print(arr_2d[1,2]) # not allowed on Python List\n",
    "\n",
    "arr_2d = np.array([[1,2,3],\n",
    "                   [4,5,6],\n",
    "                   [7,8,9]])\n",
    "\n",
    "print(\"Specific Element: \", arr_2d[1,2])\n",
    "print(\"Entire row: \", arr_2d[1]) # [4,5,6]\n",
    "print(\"Entire Column: \", arr_2d[:, 1]) # [2,5,8]"
   ]
  },
  {
   "cell_type": "markdown",
   "id": "c8edb01a",
   "metadata": {},
   "source": [
    "## Sorting"
   ]
  },
  {
   "cell_type": "code",
   "execution_count": 7,
   "id": "91dad8e9",
   "metadata": {},
   "outputs": [
    {
     "name": "stdout",
     "output_type": "stream",
     "text": [
      "Sorted array :  [0 1 2 2 3 5 7 8]\n",
      "Sorted 2d array by column: \n",
      " [[2 1]\n",
      " [2 3]\n",
      " [4 5]]\n",
      "Sorted 2d array by row: \n",
      " [[1 2]\n",
      " [3 4]\n",
      " [2 5]]\n"
     ]
    }
   ],
   "source": [
    "unsorted = np.array([5,3,7,2,8,0,1,2])\n",
    "print(\"Sorted array : \", np.sort(unsorted))\n",
    "\n",
    "unsorted_2d = np.array([[2,1], \n",
    "                        [4,3], \n",
    "                        [2,5]])\n",
    "print(\"Sorted 2d array by column: \\n\", np.sort(unsorted_2d, axis=0))\n",
    "print(\"Sorted 2d array by row: \\n\", np.sort(unsorted_2d, axis=1))"
   ]
  },
  {
   "cell_type": "markdown",
   "id": "250e3f9d",
   "metadata": {},
   "source": [
    "## Filter"
   ]
  },
  {
   "cell_type": "code",
   "execution_count": 8,
   "id": "d981b150",
   "metadata": {},
   "outputs": [
    {
     "name": "stdout",
     "output_type": "stream",
     "text": [
      "Even numbers:  [ 2  4  6  8 10]\n"
     ]
    }
   ],
   "source": [
    "numbers = np.array([1,2,3,4,5,6,7,8,9,10])\n",
    "\n",
    "even_number = numbers[numbers % 2 == 0]\n",
    "print(\"Even numbers: \", even_number)"
   ]
  },
  {
   "cell_type": "markdown",
   "id": "6abb0625",
   "metadata": {},
   "source": [
    "### Filter with mask"
   ]
  },
  {
   "cell_type": "code",
   "execution_count": 9,
   "id": "01ef0d63",
   "metadata": {},
   "outputs": [
    {
     "name": "stdout",
     "output_type": "stream",
     "text": [
      "Mask:  [False False False False False  True  True  True  True  True]\n",
      "Numbers greater than 5:  [ 6  7  8  9 10]\n"
     ]
    }
   ],
   "source": [
    "mask = numbers > 5\n",
    "print(\"Mask: \", mask)\n",
    "print(\"Numbers greater than 5: \", numbers[mask])"
   ]
  },
  {
   "cell_type": "markdown",
   "id": "dc1d5af8",
   "metadata": {},
   "source": [
    "## Fancy Indexing and np.where()"
   ]
  },
  {
   "cell_type": "code",
   "execution_count": 10,
   "id": "505c6136",
   "metadata": {},
   "outputs": [
    {
     "name": "stdout",
     "output_type": "stream",
     "text": [
      "Array with indeces:  [1 5 6]\n",
      "Where result:  (array([5, 6, 7, 8, 9]),)\n",
      "Numbers greater than 5 with Np where:  [ 6  7  8  9 10]\n"
     ]
    }
   ],
   "source": [
    "indeces = [0,4,5]\n",
    "print(\"Array with indeces: \", numbers[indeces])\n",
    "\n",
    "where_result = np.where(numbers > 5)\n",
    "print(\"Where result: \", where_result) # returns tuple of arrays\n",
    "print(\"Numbers greater than 5 with Np where: \", numbers[where_result])\n"
   ]
  },
  {
   "cell_type": "code",
   "execution_count": 11,
   "id": "e07dc726",
   "metadata": {},
   "outputs": [
    {
     "name": "stdout",
     "output_type": "stream",
     "text": [
      "Condition array:  [ 1  2  3  4  5 24 28 32 36 40]\n",
      "Condition array:  [ 2  4  6  8 10 24 28 32 36 40]\n"
     ]
    }
   ],
   "source": [
    "condition_arr = np.where(numbers > 5, numbers * 4, numbers)\n",
    "print(\"Condition array: \", condition_arr)\n",
    "\n",
    "condition_arr = np.where(numbers > 5, numbers * 4, numbers * 2)\n",
    "print(\"Condition array: \", condition_arr)"
   ]
  },
  {
   "cell_type": "markdown",
   "id": "b9ee4f82",
   "metadata": {},
   "source": [
    "## Adding and Removing data"
   ]
  },
  {
   "cell_type": "code",
   "execution_count": 14,
   "id": "3c7ed35f",
   "metadata": {},
   "outputs": [
    {
     "name": "stdout",
     "output_type": "stream",
     "text": [
      "Merged array:  [1 2 3 4 5 6]\n"
     ]
    }
   ],
   "source": [
    "arr1 = np.array([1,2,3])\n",
    "arr2 = np.array([4,5,6])\n",
    "\n",
    "merged = np.concatenate((arr1, arr2))\n",
    "print(\"Merged array: \", merged)"
   ]
  },
  {
   "cell_type": "markdown",
   "id": "11080fe1",
   "metadata": {},
   "source": [
    "### Adding row and column"
   ]
  },
  {
   "cell_type": "code",
   "execution_count": 19,
   "id": "2969f053",
   "metadata": {},
   "outputs": [
    {
     "name": "stdout",
     "output_type": "stream",
     "text": [
      "Array with new row: \n",
      " [[1 2 3]\n",
      " [4 5 6]\n",
      " [7 8 9]]\n",
      "Array with new column: \n",
      " [[ 1  2  3 10]\n",
      " [ 4  5  6 11]]\n"
     ]
    }
   ],
   "source": [
    "arr = np.array([[1,2,3],\n",
    "                [4,5,6]])\n",
    "\n",
    "new_row = np.array([[7,8,9]])\n",
    "with_new_row = np.vstack((arr, new_row))\n",
    "print(\"Array with new row: \\n\", with_new_row)\n",
    "\n",
    "new_col = np.array([[10], [11]])\n",
    "with_new_col = np.hstack((arr, new_col))\n",
    "print(\"Array with new column: \\n\", with_new_col)"
   ]
  },
  {
   "cell_type": "markdown",
   "id": "5d8bf390",
   "metadata": {},
   "source": [
    "### delete element"
   ]
  },
  {
   "cell_type": "code",
   "execution_count": 20,
   "id": "dd9cbd80",
   "metadata": {},
   "outputs": [
    {
     "name": "stdout",
     "output_type": "stream",
     "text": [
      "Deleted array:  [1 2 4 5 6]\n"
     ]
    }
   ],
   "source": [
    "arr = np.array([1,2,3,4,5,6])\n",
    "deleted = np.delete(arr, 2) # delete index 2\n",
    "print(\"Deleted array: \", deleted) # [1,2,4,5,6]"
   ]
  }
 ],
 "metadata": {
  "kernelspec": {
   "display_name": ".venv",
   "language": "python",
   "name": "python3"
  },
  "language_info": {
   "codemirror_mode": {
    "name": "ipython",
    "version": 3
   },
   "file_extension": ".py",
   "mimetype": "text/x-python",
   "name": "python",
   "nbconvert_exporter": "python",
   "pygments_lexer": "ipython3",
   "version": "3.10.11"
  }
 },
 "nbformat": 4,
 "nbformat_minor": 5
}
