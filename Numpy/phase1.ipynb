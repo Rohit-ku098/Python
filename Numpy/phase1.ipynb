{
 "cells": [
  {
   "cell_type": "markdown",
   "id": "7c5227ae",
   "metadata": {},
   "source": [
    "## Learn About Numpy"
   ]
  },
  {
   "cell_type": "code",
   "execution_count": 1,
   "id": "88f2cde1",
   "metadata": {},
   "outputs": [],
   "source": [
    "import numpy as np"
   ]
  },
  {
   "cell_type": "code",
   "execution_count": 4,
   "id": "64545937",
   "metadata": {},
   "outputs": [
    {
     "name": "stdout",
     "output_type": "stream",
     "text": [
      "1D array: [1 2 3 4 5]\n",
      "2D array:\n",
      " [[1 2 3]\n",
      " [4 5 6]]\n"
     ]
    }
   ],
   "source": [
    "arr_1d = np.array([1,2,3,4,5])\n",
    "\n",
    "print(\"1D array:\", arr_1d)\n",
    "\n",
    "arr_2d = np.array([[1,2,3], [4,5,6]])\n",
    "\n",
    "print(\"2D array:\\n\", arr_2d)"
   ]
  },
  {
   "cell_type": "markdown",
   "id": "3d84f3b5",
   "metadata": {},
   "source": [
    "### Python List vs Numpy Array"
   ]
  },
  {
   "cell_type": "code",
   "execution_count": null,
   "id": "994f8ad2",
   "metadata": {},
   "outputs": [
    {
     "name": "stdout",
     "output_type": "stream",
     "text": [
      "Multiplication of list by 2: [1, 2, 3, 1, 2, 3]\n",
      "Multiplication of numpy array by 2: [2 4 6]\n"
     ]
    }
   ],
   "source": [
    "py_list = [1,2,3]\n",
    "\n",
    "print(\"Multiplication of list by 2:\", py_list *2) # This will repeat the list, not multiply each element by 2\n",
    "\n",
    "np_array = np.array([1,2,3])\n",
    "\n",
    "print(\"Multiplication of numpy array by 2:\", np_array * 2) # This will multiply each element by 2"
   ]
  },
  {
   "cell_type": "code",
   "execution_count": 43,
   "id": "0051d347",
   "metadata": {},
   "outputs": [
    {
     "name": "stdout",
     "output_type": "stream",
     "text": [
      "Time taken to create python list: 0.06556558609008789\n",
      "Time taken to create numpy array: 0.001993894577026367\n"
     ]
    }
   ],
   "source": [
    "import time\n",
    "\n",
    "start_time = time.time()\n",
    "py_list = [i for i in range(1000000)]\n",
    "end_time = time.time()\n",
    "\n",
    "print(\"Time taken to create python list:\", end_time - start_time)\n",
    "\n",
    "\n",
    "start_time = time.time()\n",
    "np_array = np.arange(1000000)\n",
    "end_time = time.time()\n",
    "\n",
    "print(\"Time taken to create numpy array:\", end_time - start_time)"
   ]
  },
  {
   "cell_type": "markdown",
   "id": "65071edc",
   "metadata": {},
   "source": [
    "###  Creating Array"
   ]
  },
  {
   "cell_type": "code",
   "execution_count": null,
   "id": "095d48ba",
   "metadata": {},
   "outputs": [
    {
     "name": "stdout",
     "output_type": "stream",
     "text": [
      "Zeros array:\n",
      " [[0. 0. 0. 0.]\n",
      " [0. 0. 0. 0.]\n",
      " [0. 0. 0. 0.]]\n",
      "Ones array:\n",
      " [[1. 1. 1. 1.]\n",
      " [1. 1. 1. 1.]\n",
      " [1. 1. 1. 1.]]\n",
      "Full array:\n",
      " [[7 7 7]\n",
      " [7 7 7]]\n",
      "Random array:\n",
      " [[0.05308001 0.66233224 0.36124797]\n",
      " [0.91998816 0.34704001 0.22479411]]\n",
      "Sequence array: [0 2 4 6 8]\n",
      "Linspace array: [0.   0.25 0.5  0.75 1.  ]\n"
     ]
    }
   ],
   "source": [
    "zeros = np.zeros((3,4))\n",
    "print(\"Zeros array:\\n\", zeros)\n",
    "\n",
    "ones = np.ones((3,4))\n",
    "print(\"Ones array:\\n\", ones)\n",
    "\n",
    "full = np.full((2,3), 7)\n",
    "print(\"Full array:\\n\", full)\n",
    "\n",
    "random = np.random.random((2,3))\n",
    "print(\"Random array:\\n\", random)\n",
    "\n",
    "sequence = np.arange(0, 10, 2)\n",
    "print(\"Sequence array:\", sequence)\n",
    "\n"
   ]
  },
  {
   "cell_type": "markdown",
   "id": "eb2dfe33",
   "metadata": {},
   "source": [
    "### Vector, Matrix and Tensor"
   ]
  },
  {
   "cell_type": "code",
   "execution_count": null,
   "id": "577a4c65",
   "metadata": {},
   "outputs": [
    {
     "name": "stdout",
     "output_type": "stream",
     "text": [
      "Vector:  [1 2 3]\n",
      "Matrix:\n",
      " [[1 2 3]\n",
      " [4 5 6]]\n",
      "Tensor:\n",
      " [[[1 2]\n",
      "  [3 4]]\n",
      "\n",
      " [[5 6]\n",
      "  [7 8]]]\n"
     ]
    }
   ],
   "source": [
    "## 1D array\n",
    "vector = np.array([1, 2, 3])\n",
    "print(\"Vector: \", vector)\n",
    "\n",
    "## 2D array\n",
    "matrix = np.array([[1,2,3],\n",
    "                   [4,5,6]])\n",
    "print(\"Matrix:\\n\", matrix)\n",
    "\n",
    "## More than 2D array (tensor)\n",
    "tensor = np.array([[[1,2], [3,4]],\n",
    "                   [[5,6], [7,8]]])\n",
    "print(\"Tensor:\\n\", tensor)"
   ]
  },
  {
   "cell_type": "markdown",
   "id": "10c6cecc",
   "metadata": {},
   "source": [
    "### Array Properties"
   ]
  },
  {
   "cell_type": "code",
   "execution_count": 53,
   "id": "5f4eb1af",
   "metadata": {},
   "outputs": [
    {
     "name": "stdout",
     "output_type": "stream",
     "text": [
      "Shape:  (2, 3)\n",
      "Dimension:  2\n",
      "Size:  6\n",
      "Data type:  int64\n"
     ]
    }
   ],
   "source": [
    "arr = np.array([[1,2,3],\n",
    "                [4,5,6]])\n",
    "\n",
    "print(\"Shape: \", arr.shape)\n",
    "print(\"Dimension: \", arr.ndim)\n",
    "print(\"Size: \", arr.size)\n",
    "print(\"Data type: \", arr.dtype)\n"
   ]
  },
  {
   "cell_type": "markdown",
   "id": "df7a5e10",
   "metadata": {},
   "source": [
    "### Array Reshaping"
   ]
  },
  {
   "cell_type": "code",
   "execution_count": 5,
   "id": "580954fa",
   "metadata": {},
   "outputs": [
    {
     "name": "stdout",
     "output_type": "stream",
     "text": [
      "Original Array:  [ 0  1  2  3  4  5  6  7  8  9 10 11]\n",
      "Reshaped array: \n",
      " [[ 0  1  2  3]\n",
      " [ 4  5  6  7]\n",
      " [ 8  9 10 11]]\n",
      "Flattened array:  [ 0  1  2  3  4  5  6  7  8  9 10 11]\n",
      "Ravelled array:  [ 0  1  2  3  4  5  6  7  8  9 10 11]\n",
      "Reshaped array: \n",
      " [[ 0  1  2  3]\n",
      " [ 4  5  6  7]\n",
      " [ 8  9 10 11]]\n",
      "Transpose array: \n",
      " [[ 0  4  8]\n",
      " [ 1  5  9]\n",
      " [ 2  6 10]\n",
      " [ 3  7 11]]\n"
     ]
    }
   ],
   "source": [
    "arr = np.arange(12)\n",
    "print(\"Original Array: \", arr)\n",
    "\n",
    "reshaped = arr.reshape(3,4)\n",
    "print(\"Reshaped array: \\n\", reshaped)\n",
    "\n",
    "\n",
    "## It flat array and returns copy\n",
    "flattened = reshaped.flatten()\n",
    "print(\"Flattened array: \", flattened)\n",
    "\n",
    "## It flat array and return original array\n",
    "ravelled = reshaped.ravel()\n",
    "print(\"Ravelled array: \", ravelled)\n",
    "print(\"Reshaped array: \\n\", reshaped)\n",
    "\n",
    "## Transpose\n",
    "transpose = reshaped.T\n",
    "print(\"Transpose array: \\n\", transpose)"
   ]
  }
 ],
 "metadata": {
  "kernelspec": {
   "display_name": ".venv",
   "language": "python",
   "name": "python3"
  },
  "language_info": {
   "codemirror_mode": {
    "name": "ipython",
    "version": 3
   },
   "file_extension": ".py",
   "mimetype": "text/x-python",
   "name": "python",
   "nbconvert_exporter": "python",
   "pygments_lexer": "ipython3",
   "version": "3.10.11"
  }
 },
 "nbformat": 4,
 "nbformat_minor": 5
}
